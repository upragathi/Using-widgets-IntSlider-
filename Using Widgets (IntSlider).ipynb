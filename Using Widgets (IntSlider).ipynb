{
 "cells": [
  {
   "cell_type": "markdown",
   "id": "17c0da40",
   "metadata": {},
   "source": [
    "# Using widgets "
   ]
  },
  {
   "cell_type": "markdown",
   "id": "ea1cf345",
   "metadata": {},
   "source": [
    "There are many number of widgets abvailable which we can import from ipywidgets"
   ]
  },
  {
   "cell_type": "markdown",
   "id": "e6fef239",
   "metadata": {},
   "source": [
    "1. IntSlider"
   ]
  },
  {
   "cell_type": "markdown",
   "id": "d4d16446",
   "metadata": {},
   "source": [
    "#To declare value of slider"
   ]
  },
  {
   "cell_type": "code",
   "execution_count": 1,
   "id": "ada44157",
   "metadata": {
    "scrolled": true
   },
   "outputs": [
    {
     "data": {
      "application/vnd.jupyter.widget-view+json": {
       "model_id": "cd20285c2b3744dcb649bce3ebea71c3",
       "version_major": 2,
       "version_minor": 0
      },
      "text/plain": [
       "IntSlider(value=100)"
      ]
     },
     "metadata": {},
     "output_type": "display_data"
    }
   ],
   "source": [
    "import ipywidgets as wg\n",
    "wg.IntSlider(value= 100)"
   ]
  },
  {
   "cell_type": "markdown",
   "id": "ec945a30",
   "metadata": {},
   "source": [
    "#To label minimum and maximum vlaues of the slider (minimum and maximum integer values)"
   ]
  },
  {
   "cell_type": "code",
   "execution_count": 2,
   "id": "0dae786e",
   "metadata": {},
   "outputs": [
    {
     "data": {
      "application/vnd.jupyter.widget-view+json": {
       "model_id": "ea2efc7e0305429a9ae5c340442d3925",
       "version_major": 2,
       "version_minor": 0
      },
      "text/plain": [
       "IntSlider(value=50, max=60, min=5)"
      ]
     },
     "metadata": {},
     "output_type": "display_data"
    }
   ],
   "source": [
    "import ipywidgets as wg\n",
    "wg.IntSlider(value=50,\n",
    "             min=5, \n",
    "             max=60\n",
    "            )\n"
   ]
  },
  {
   "cell_type": "markdown",
   "id": "7197df32",
   "metadata": {},
   "source": [
    "#To label step size of the slider"
   ]
  },
  {
   "cell_type": "code",
   "execution_count": 3,
   "id": "21dc9f64",
   "metadata": {},
   "outputs": [
    {
     "data": {
      "application/vnd.jupyter.widget-view+json": {
       "model_id": "9cb565328e3741c9be353d46ff8e88d7",
       "version_major": 2,
       "version_minor": 0
      },
      "text/plain": [
       "IntSlider(value=30, max=90, min=5, step=5)"
      ]
     },
     "metadata": {},
     "output_type": "display_data"
    }
   ],
   "source": [
    "import ipywidgets as wg\n",
    "wg.IntSlider(value=30, \n",
    "             min=5, \n",
    "             max=90, \n",
    "             step=5\n",
    "            )"
   ]
  },
  {
   "cell_type": "markdown",
   "id": "00aa4d60",
   "metadata": {},
   "source": [
    "#To disable and continous_update"
   ]
  },
  {
   "cell_type": "markdown",
   "id": "cd8217be",
   "metadata": {},
   "source": [
    "1. when diable is False(slider enabled)"
   ]
  },
  {
   "cell_type": "code",
   "execution_count": 11,
   "id": "e6c701d3",
   "metadata": {},
   "outputs": [
    {
     "data": {
      "application/vnd.jupyter.widget-view+json": {
       "model_id": "2efc3c3333a141a6b1ff1f96261a531e",
       "version_major": 2,
       "version_minor": 0
      },
      "text/plain": [
       "IntSlider(value=48, max=60, min=10, step=3)"
      ]
     },
     "metadata": {},
     "output_type": "display_data"
    }
   ],
   "source": [
    "import ipywidgets as wg\n",
    "wg.IntSlider(value=48,\n",
    "             min=10,\n",
    "             max=60, \n",
    "             step=3, \n",
    "             disabled=False, \n",
    "             continous_update=False\n",
    "            )"
   ]
  },
  {
   "cell_type": "markdown",
   "id": "9014a167",
   "metadata": {},
   "source": [
    "2. When disable is True(slider disabled)"
   ]
  },
  {
   "cell_type": "code",
   "execution_count": 12,
   "id": "04dcdc46",
   "metadata": {},
   "outputs": [
    {
     "data": {
      "application/vnd.jupyter.widget-view+json": {
       "model_id": "7ab0acef6fc34ed4ac52aeed943aae18",
       "version_major": 2,
       "version_minor": 0
      },
      "text/plain": [
       "IntSlider(value=48, disabled=True, max=60, min=10, step=3)"
      ]
     },
     "metadata": {},
     "output_type": "display_data"
    }
   ],
   "source": [
    "import ipywidgets as wg\n",
    "wg.IntSlider(value=48, \n",
    "             min=10, \n",
    "            max=60,\n",
    "            step=3,\n",
    "            disabled=True,\n",
    "            continous_update=False\n",
    "            )"
   ]
  },
  {
   "cell_type": "markdown",
   "id": "687ac336",
   "metadata": {},
   "source": [
    "#To write a description to the slider"
   ]
  },
  {
   "cell_type": "code",
   "execution_count": 13,
   "id": "08ed4208",
   "metadata": {},
   "outputs": [
    {
     "data": {
      "application/vnd.jupyter.widget-view+json": {
       "model_id": "6da9fc95f93c4e6db02490a9c4081143",
       "version_major": 2,
       "version_minor": 0
      },
      "text/plain": [
       "IntSlider(value=40, description='volume', min=10, step=5)"
      ]
     },
     "metadata": {},
     "output_type": "display_data"
    }
   ],
   "source": [
    "import ipywidgets as wg\n",
    "wg.IntSlider(value=40,\n",
    "             min=10,\n",
    "             max=100, \n",
    "             step=5, \n",
    "             disabled=False, \n",
    "             continous_update=False,\n",
    "             description='volume',\n",
    "            )"
   ]
  },
  {
   "cell_type": "markdown",
   "id": "35fb71e0",
   "metadata": {},
   "source": [
    "#slider having orientation of horizontal and vertical"
   ]
  },
  {
   "cell_type": "markdown",
   "id": "ad60dea1",
   "metadata": {},
   "source": [
    "1"
   ]
  },
  {
   "cell_type": "code",
   "execution_count": 15,
   "id": "1f699720",
   "metadata": {},
   "outputs": [
    {
     "data": {
      "application/vnd.jupyter.widget-view+json": {
       "model_id": "3d953e4a868941b69b527b889d0266e6",
       "version_major": 2,
       "version_minor": 0
      },
      "text/plain": [
       "IntSlider(value=40, description='volume', min=10, step=5)"
      ]
     },
     "metadata": {},
     "output_type": "display_data"
    }
   ],
   "source": [
    "import ipywidgets as wg\n",
    "wg.IntSlider(value=40,\n",
    "             min=10,\n",
    "             max=100, \n",
    "             step=5, \n",
    "             disabled=False, \n",
    "             continous_update=False,\n",
    "             description='volume',\n",
    "             orientation='horizontal'\n",
    "            )"
   ]
  },
  {
   "cell_type": "markdown",
   "id": "2c4b0ddb",
   "metadata": {},
   "source": [
    "2 "
   ]
  },
  {
   "cell_type": "code",
   "execution_count": 16,
   "id": "86f0cdd4",
   "metadata": {},
   "outputs": [
    {
     "data": {
      "application/vnd.jupyter.widget-view+json": {
       "model_id": "ad523f13d0244e11bd85f3d2f087929d",
       "version_major": 2,
       "version_minor": 0
      },
      "text/plain": [
       "IntSlider(value=40, description='volume', min=10, orientation='vertical', step=5)"
      ]
     },
     "metadata": {},
     "output_type": "display_data"
    }
   ],
   "source": [
    "import ipywidgets as wg\n",
    "wg.IntSlider(value=40,\n",
    "             min=10,\n",
    "             max=100, \n",
    "             step=5, \n",
    "             disabled=False, \n",
    "             continous_update=False,\n",
    "             description='volume',\n",
    "             orientation='vertical'\n",
    "            )"
   ]
  },
  {
   "cell_type": "markdown",
   "id": "3e7b00e5",
   "metadata": {},
   "source": [
    "#slider showing and hiding the value "
   ]
  },
  {
   "cell_type": "markdown",
   "id": "5dd80a04",
   "metadata": {},
   "source": [
    "1"
   ]
  },
  {
   "cell_type": "code",
   "execution_count": 18,
   "id": "c23fd6f4",
   "metadata": {},
   "outputs": [
    {
     "data": {
      "application/vnd.jupyter.widget-view+json": {
       "model_id": "f9cf1cac5ba74842821dfa2ddd3357f3",
       "version_major": 2,
       "version_minor": 0
      },
      "text/plain": [
       "IntSlider(value=40, description='volume', min=10, step=3)"
      ]
     },
     "metadata": {},
     "output_type": "display_data"
    }
   ],
   "source": [
    "import ipywidgets as wg\n",
    "wg.IntSlider(value=40,\n",
    "             min=10,\n",
    "             max=100, \n",
    "             step=3, \n",
    "             disabled=False, \n",
    "             continous_update=False,\n",
    "             description='volume',\n",
    "             orientation='horizontal',\n",
    "             readout=True,\n",
    "            )"
   ]
  },
  {
   "cell_type": "markdown",
   "id": "9b100b8d",
   "metadata": {},
   "source": [
    "2"
   ]
  },
  {
   "cell_type": "code",
   "execution_count": 19,
   "id": "ff7b2549",
   "metadata": {},
   "outputs": [
    {
     "data": {
      "application/vnd.jupyter.widget-view+json": {
       "model_id": "2e145731f7394c49a5c7d20c09445042",
       "version_major": 2,
       "version_minor": 0
      },
      "text/plain": [
       "IntSlider(value=40, description='volume', min=10, readout=False, step=3)"
      ]
     },
     "metadata": {},
     "output_type": "display_data"
    }
   ],
   "source": [
    "import ipywidgets as wg\n",
    "wg.IntSlider(value=40,\n",
    "             min=10,\n",
    "             max=100, \n",
    "             step=3, \n",
    "             disabled=False, \n",
    "             continous_update=False,\n",
    "             description='volume',\n",
    "             orientation='horizontal',\n",
    "             readout=False,\n",
    "            )"
   ]
  },
  {
   "cell_type": "markdown",
   "id": "c1642950",
   "metadata": {},
   "source": [
    "#slider having different formats for readout (d for decimal, b for binary)"
   ]
  },
  {
   "cell_type": "code",
   "execution_count": 20,
   "id": "b7760cac",
   "metadata": {},
   "outputs": [
    {
     "data": {
      "application/vnd.jupyter.widget-view+json": {
       "model_id": "53feb57e763f4a4d80d7938bbe9d18a5",
       "version_major": 2,
       "version_minor": 0
      },
      "text/plain": [
       "IntSlider(value=40, description='volume', min=10, step=3)"
      ]
     },
     "metadata": {},
     "output_type": "display_data"
    }
   ],
   "source": [
    "import ipywidgets as wg\n",
    "wg.IntSlider(value=40,\n",
    "             min=10,\n",
    "             max=100, \n",
    "             step=3, \n",
    "             disabled=False, \n",
    "             continous_update=False,\n",
    "             description='volume',\n",
    "             orientation='horizontal',\n",
    "             readout=True,\n",
    "             readout_format='d'\n",
    "            )"
   ]
  },
  {
   "cell_type": "code",
   "execution_count": 21,
   "id": "90d61e00",
   "metadata": {},
   "outputs": [
    {
     "data": {
      "application/vnd.jupyter.widget-view+json": {
       "model_id": "9e4c8b378d4f49788207c1f1821719bd",
       "version_major": 2,
       "version_minor": 0
      },
      "text/plain": [
       "IntSlider(value=40, description='volume', min=10, readout_format='b', step=3)"
      ]
     },
     "metadata": {},
     "output_type": "display_data"
    }
   ],
   "source": [
    "import ipywidgets as wg\n",
    "wg.IntSlider(value=40,\n",
    "             min=10,\n",
    "             max=100, \n",
    "             step=3, \n",
    "             disabled=False, \n",
    "             continous_update=False,\n",
    "             description='volume',\n",
    "             orientation='horizontal',\n",
    "             readout=True,\n",
    "             readout_format='b'\n",
    "            )"
   ]
  }
 ],
 "metadata": {
  "kernelspec": {
   "display_name": "Python 3",
   "language": "python",
   "name": "python3"
  },
  "language_info": {
   "codemirror_mode": {
    "name": "ipython",
    "version": 3
   },
   "file_extension": ".py",
   "mimetype": "text/x-python",
   "name": "python",
   "nbconvert_exporter": "python",
   "pygments_lexer": "ipython3",
   "version": "3.8.8"
  }
 },
 "nbformat": 4,
 "nbformat_minor": 5
}
