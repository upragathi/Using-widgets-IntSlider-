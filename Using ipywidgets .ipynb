{
 "cells": [
  {
   "cell_type": "markdown",
   "id": "cf354e42",
   "metadata": {},
   "source": [
    "Using ipywidgets"
   ]
  },
  {
   "cell_type": "markdown",
   "id": "309e85dd",
   "metadata": {},
   "source": [
    "1. importing widgets"
   ]
  },
  {
   "cell_type": "code",
   "execution_count": 1,
   "id": "4c63a3b9",
   "metadata": {},
   "outputs": [],
   "source": [
    "import ipywidgets as widgets"
   ]
  },
  {
   "cell_type": "code",
   "execution_count": 2,
   "id": "ad1ff19a",
   "metadata": {},
   "outputs": [],
   "source": [
    "import ipywidgets as wg"
   ]
  },
  {
   "cell_type": "markdown",
   "id": "2fc5e6d3",
   "metadata": {},
   "source": [
    "2. display"
   ]
  },
  {
   "cell_type": "code",
   "execution_count": 4,
   "id": "38d9988a",
   "metadata": {},
   "outputs": [
    {
     "data": {
      "application/vnd.jupyter.widget-view+json": {
       "model_id": "282c05a5818f4bd8a9f98aaf53084648",
       "version_major": 2,
       "version_minor": 0
      },
      "text/plain": [
       "IntSlider(value=0)"
      ]
     },
     "metadata": {},
     "output_type": "display_data"
    }
   ],
   "source": [
    "wg.IntSlider()"
   ]
  },
  {
   "cell_type": "code",
   "execution_count": 5,
   "id": "c1e22e08",
   "metadata": {},
   "outputs": [
    {
     "data": {
      "application/vnd.jupyter.widget-view+json": {
       "model_id": "46f3a98bb773480fa67d50da738817eb",
       "version_major": 2,
       "version_minor": 0
      },
      "text/plain": [
       "IntSlider(value=0)"
      ]
     },
     "metadata": {},
     "output_type": "display_data"
    }
   ],
   "source": [
    "import ipywidgets as widgets\n",
    "from IPython.display import display\n",
    "wg = widgets.IntSlider()\n",
    "display(wg)"
   ]
  },
  {
   "cell_type": "markdown",
   "id": "85c48c51",
   "metadata": {},
   "source": [
    "3. close"
   ]
  },
  {
   "cell_type": "code",
   "execution_count": 6,
   "id": "c296e13b",
   "metadata": {},
   "outputs": [
    {
     "data": {
      "application/vnd.jupyter.widget-view+json": {
       "model_id": "",
       "version_major": 2,
       "version_minor": 0
      },
      "text/plain": [
       "IntSlider(value=0)"
      ]
     },
     "metadata": {},
     "output_type": "display_data"
    }
   ],
   "source": [
    "import ipywidgets as widgets\n",
    "from IPython.display import display\n",
    "wg = widgets.IntSlider()\n",
    "display(wg)\n",
    "wg.close()"
   ]
  },
  {
   "cell_type": "markdown",
   "id": "5043a148",
   "metadata": {},
   "source": [
    "4. Properties of widgets(value)"
   ]
  },
  {
   "cell_type": "code",
   "execution_count": 7,
   "id": "a2168342",
   "metadata": {},
   "outputs": [
    {
     "data": {
      "application/vnd.jupyter.widget-view+json": {
       "model_id": "2c2b3531dd4c4805b815f70c4713d82b",
       "version_major": 2,
       "version_minor": 0
      },
      "text/plain": [
       "IntSlider(value=0)"
      ]
     },
     "metadata": {},
     "output_type": "display_data"
    },
    {
     "data": {
      "text/plain": [
       "0"
      ]
     },
     "execution_count": 7,
     "metadata": {},
     "output_type": "execute_result"
    }
   ],
   "source": [
    "import ipywidgets as widgets\n",
    "from IPython.display import display\n",
    "wg = widgets.IntSlider()\n",
    "display(wg)\n",
    "wg.value\n"
   ]
  },
  {
   "cell_type": "markdown",
   "id": "2dcbb1eb",
   "metadata": {},
   "source": [
    "5. keys(you can evident all the useful keys used by giving wg.keys)"
   ]
  },
  {
   "cell_type": "code",
   "execution_count": 8,
   "id": "8542bd05",
   "metadata": {},
   "outputs": [
    {
     "data": {
      "text/plain": [
       "['_dom_classes',\n",
       " '_model_module',\n",
       " '_model_module_version',\n",
       " '_model_name',\n",
       " '_view_count',\n",
       " '_view_module',\n",
       " '_view_module_version',\n",
       " '_view_name',\n",
       " 'continuous_update',\n",
       " 'description',\n",
       " 'description_tooltip',\n",
       " 'disabled',\n",
       " 'layout',\n",
       " 'max',\n",
       " 'min',\n",
       " 'orientation',\n",
       " 'readout',\n",
       " 'readout_format',\n",
       " 'step',\n",
       " 'style',\n",
       " 'value']"
      ]
     },
     "execution_count": 8,
     "metadata": {},
     "output_type": "execute_result"
    }
   ],
   "source": [
    "wg.keys"
   ]
  }
 ],
 "metadata": {
  "kernelspec": {
   "display_name": "Python 3",
   "language": "python",
   "name": "python3"
  },
  "language_info": {
   "codemirror_mode": {
    "name": "ipython",
    "version": 3
   },
   "file_extension": ".py",
   "mimetype": "text/x-python",
   "name": "python",
   "nbconvert_exporter": "python",
   "pygments_lexer": "ipython3",
   "version": "3.8.8"
  }
 },
 "nbformat": 4,
 "nbformat_minor": 5
}
